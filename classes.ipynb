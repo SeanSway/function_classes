{
 "cells": [
  {
   "cell_type": "code",
   "execution_count": 52,
   "id": "0463a45e-d3ff-4e71-bbe3-f5350610f3d2",
   "metadata": {},
   "outputs": [],
   "source": [
    "import math"
   ]
  },
  {
   "cell_type": "code",
   "execution_count": 54,
   "id": "46884c93-13d9-45a9-a59d-68a72789ec02",
   "metadata": {},
   "outputs": [],
   "source": [
    "class Point():\n",
    "    def _init_(self, x,y):\n",
    "        # initialize the point with x and y coordinates\n",
    "        self.x = x\n",
    "        self.y = y"
   ]
  },
  {
   "cell_type": "code",
   "execution_count": 56,
   "id": "5a179037-f1f5-4f80-905a-c658f0378df6",
   "metadata": {},
   "outputs": [
    {
     "name": "stdout",
     "output_type": "stream",
     "text": [
      "i am Point object\n"
     ]
    }
   ],
   "source": [
    "print('i am Point object')"
   ]
  },
  {
   "cell_type": "code",
   "execution_count": 64,
   "id": "c06859d9-a20e-449c-b500-504b7df50bf5",
   "metadata": {},
   "outputs": [],
   "source": [
    "def translate(self, x_move, y_move):\n",
    "    self.x = self.x + x_move\n",
    "    self.y = self.y + y_move"
   ]
  }
 ],
 "metadata": {
  "kernelspec": {
   "display_name": "Python 3 (ipykernel)",
   "language": "python",
   "name": "python3"
  },
  "language_info": {
   "codemirror_mode": {
    "name": "ipython",
    "version": 3
   },
   "file_extension": ".py",
   "mimetype": "text/x-python",
   "name": "python",
   "nbconvert_exporter": "python",
   "pygments_lexer": "ipython3",
   "version": "3.12.4"
  }
 },
 "nbformat": 4,
 "nbformat_minor": 5
}
