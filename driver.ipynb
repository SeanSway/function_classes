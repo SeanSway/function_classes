{
 "cells": [
  {
   "cell_type": "code",
   "execution_count": 52,
   "id": "0463a45e-d3ff-4e71-bbe3-f5350610f3d2",
   "metadata": {},
   "outputs": [],
   "source": [
    "import math"
   ]
  },
  {
   "cell_type": "code",
   "execution_count": 54,
   "id": "46884c93-13d9-45a9-a59d-68a72789ec02",
   "metadata": {},
   "outputs": [],
   "source": [
    "class Point():\n",
    "    def _init_(self, x,y):\n",
    "        # initialize the point with x and y coordinates\n",
    "        self.x = x\n",
    "        self.y = y"
   ]
  },
  {
   "cell_type": "code",
   "execution_count": 18,
   "id": "5a179037-f1f5-4f80-905a-c658f0378df6",
   "metadata": {},
   "outputs": [
    {
     "name": "stdout",
     "output_type": "stream",
     "text": [
      "i am Point object\n"
     ]
    }
   ],
   "source": [
    "print('i am Point object')"
   ]
  },
  {
   "cell_type": "code",
   "execution_count": 20,
   "id": "c06859d9-a20e-449c-b500-504b7df50bf5",
   "metadata": {},
   "outputs": [],
   "source": [
    "def translate(self, x_move, y_move):\n",
    "    self.x = self.x + x_move\n",
    "    self.y = self.y + y_move"
   ]
  },
  {
   "cell_type": "code",
   "execution_count": 22,
   "id": "dc176e3b-8991-49b3-8745-7b99d4765839",
   "metadata": {},
   "outputs": [],
   "source": [
    "my_file = open(r\"C:\\Users\\SEAN\\Downloads\\x_y_coordinates.txt\",\"r\")"
   ]
  },
  {
   "cell_type": "code",
   "execution_count": 24,
   "id": "0e548f3e-ab5b-4b20-b2ea-0e7b4dce39e1",
   "metadata": {},
   "outputs": [
    {
     "name": "stdout",
     "output_type": "stream",
     "text": [
      "<_io.TextIOWrapper name='C:\\\\Users\\\\SEAN\\\\Downloads\\\\x_y_coordinates.txt' mode='r' encoding='cp1252'>\n"
     ]
    }
   ],
   "source": [
    "print(my_file)"
   ]
  },
  {
   "cell_type": "code",
   "execution_count": 32,
   "id": "8a86e6ba-2268-4e88-9106-00992c23c122",
   "metadata": {},
   "outputs": [],
   "source": [
    "def read_coordinates(my_file):\n",
    "    coordinates = []\n",
    "    with open(my_file, 'r') as file:\n",
    "        for line in file:\n",
    "            x, y = map(float, line.split())\n",
    "            coordinates.append((x, y))\n",
    "    return coordinates"
   ]
  },
  {
   "cell_type": "code",
   "execution_count": 34,
   "id": "e4272778-6c2a-45aa-b0c1-6e902a18c478",
   "metadata": {},
   "outputs": [],
   "source": [
    "def translate_points(points, dx, dy):\n",
    "    return [(x + dx, y + dy) for x, y in points]"
   ]
  },
  {
   "cell_type": "code",
   "execution_count": 40,
   "id": "4eae6536-7878-4daf-a30c-a949a8bd5f36",
   "metadata": {},
   "outputs": [],
   "source": [
    "class Point():\n",
    "    def _init_(self, x,y):\n",
    "        self.x = x\n",
    "        self.y = y\n",
    "def translate(self, x_move, y_move):\n",
    "    self.x = self.x + x_move\n",
    "    self.y = self.y + y_move"
   ]
  }
 ],
 "metadata": {
  "kernelspec": {
   "display_name": "Python 3 (ipykernel)",
   "language": "python",
   "name": "python3"
  },
  "language_info": {
   "codemirror_mode": {
    "name": "ipython",
    "version": 3
   },
   "file_extension": ".py",
   "mimetype": "text/x-python",
   "name": "python",
   "nbconvert_exporter": "python",
   "pygments_lexer": "ipython3",
   "version": "3.12.4"
  }
 },
 "nbformat": 4,
 "nbformat_minor": 5
}
